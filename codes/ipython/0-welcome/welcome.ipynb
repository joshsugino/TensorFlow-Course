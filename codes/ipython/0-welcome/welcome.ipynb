{
  "cells": [
    {
      "cell_type": "code",
      "execution_count": 1,
      "metadata": {
        "colab": {
          "base_uri": "https://localhost:8080/",
          "height": 129
        },
        "id": "7i1UqqIkNxAt",
        "outputId": "2f9c0fc3-ba1a-499d-f4ea-0bfe160ae841"
      },
      "outputs": [
        {
          "name": "stdout",
          "output_type": "stream",
          "text": [
            "Tensorflow version:  2.11.0\n",
            "Tensorflow is built with CUDA:  False\n",
            "All devices:  [PhysicalDevice(name='/physical_device:CPU:0', device_type='CPU')]\n",
            "GPU devices:  []\n",
            "tf.Tensor(-0.2610402, shape=(), dtype=float32)\n"
          ]
        }
      ],
      "source": [
        "# Import tensorflow\n",
        "import tensorflow as tf\n",
        "\n",
        "# Check version\n",
        "print(\"Tensorflow version: \", tf.__version__)\n",
        "\n",
        "# Test TensorFlow for cuda availibility\n",
        "print(\"Tensorflow is built with CUDA: \", tf.test.is_built_with_cuda())\n",
        "\n",
        "# Check devices\n",
        "print(\"All devices: \", tf.config.list_physical_devices(device_type=None))\n",
        "print(\"GPU devices: \", tf.config.list_physical_devices(device_type='GPU'))\n",
        "\n",
        "# Print a randomly generated tensor\n",
        "# tf.math.reduce_sum: https://www.tensorflow.org/api_docs/python/tf/math/reduce_sum\n",
        "# tf.random.normal: https://www.tensorflow.org/api_docs/python/tf/random/normal\n",
        "print(tf.math.reduce_sum(tf.random.normal([1, 10])))\n"
      ]
    },
    {
      "cell_type": "code",
      "execution_count": 3,
      "metadata": {
        "id": "rcU8_F3fPUb5"
      },
      "outputs": [
        {
          "name": "stdout",
          "output_type": "stream",
          "text": [
            "\n",
            "Devices:  [PhysicalDevice(name='/physical_device:CPU:0', device_type='CPU')]\n"
          ]
        }
      ],
      "source": [
        "#verify that tf is using GPU\n",
        "\n",
        "import tensorflow as tf\n",
        "devices = tf.config.list_physical_devices()\n",
        "print(\"\\nDevices: \", devices)\n",
        "\n",
        "gpus = tf.config.list_physical_devices('GPU')\n",
        "if gpus:\n",
        "  details = tf.config.experimental.get_device_details(gpus[0])\n",
        "  print(\"GPU details: \", details)"
      ]
    },
    {
      "cell_type": "code",
      "execution_count": null,
      "metadata": {},
      "outputs": [],
      "source": []
    }
  ],
  "metadata": {
    "accelerator": "GPU",
    "colab": {
      "collapsed_sections": [],
      "name": "welcome.ipynb",
      "provenance": []
    },
    "kernelspec": {
      "display_name": "Python 3",
      "name": "python3"
    },
    "language_info": {
      "codemirror_mode": {
        "name": "ipython",
        "version": 3
      },
      "file_extension": ".py",
      "mimetype": "text/x-python",
      "name": "python",
      "nbconvert_exporter": "python",
      "pygments_lexer": "ipython3",
      "version": "3.9.19"
    }
  },
  "nbformat": 4,
  "nbformat_minor": 0
}
